{
  "nbformat": 4,
  "nbformat_minor": 0,
  "metadata": {
    "colab": {
      "name": "TallerBigData.ipynb",
      "provenance": [],
      "collapsed_sections": [],
      "authorship_tag": "ABX9TyM/YHaPOsnMJNEMLALQm53W",
      "include_colab_link": true
    },
    "kernelspec": {
      "name": "python3",
      "display_name": "Python 3"
    },
    "language_info": {
      "name": "python"
    }
  },
  "cells": [
    {
      "cell_type": "markdown",
      "metadata": {
        "id": "view-in-github",
        "colab_type": "text"
      },
      "source": [
        "<a href=\"https://colab.research.google.com/github/MateoRosas/BigData-e-Ingenieria-De-Datos/blob/main/TallerBigData.ipynb\" target=\"_parent\"><img src=\"https://colab.research.google.com/assets/colab-badge.svg\" alt=\"Open In Colab\"/></a>"
      ]
    },
    {
      "cell_type": "markdown",
      "source": [
        "##Repaso clase"
      ],
      "metadata": {
        "id": "quGYHIxYaIsh"
      }
    },
    {
      "cell_type": "code",
      "execution_count": 94,
      "metadata": {
        "colab": {
          "base_uri": "https://localhost:8080/"
        },
        "id": "znYguwTerCsd",
        "outputId": "344a7deb-4d53-4e48-b6c5-dfeb90e39b5d"
      },
      "outputs": [
        {
          "output_type": "execute_result",
          "data": {
            "text/plain": [
              "[9, 16, 25, 36]"
            ]
          },
          "metadata": {},
          "execution_count": 94
        }
      ],
      "source": [
        "x = [-2,3,4,5,6]\n",
        "\n",
        "x2 = [w**3 for w in x]\n",
        "\n",
        "x2\n",
        "\n",
        "[w ** 2 for w in x if w > 0]"
      ]
    },
    {
      "cell_type": "code",
      "source": [
        "from IPython.core.display import Math\n",
        "def sumar(x=0 , y=0):\n",
        "  return x + y\n",
        "\n",
        "def resta(x=0, y=0):\n",
        "  return x - y\n",
        "\n",
        "def f(x):\n",
        "  if x == 0:\n",
        "    return 0\n",
        "  else:\n",
        "    return x*f(x-1)\n",
        "\n",
        "def f1(f3, x, y):\n",
        "  return f3(x, y)\n",
        "\n",
        "\n",
        "\n",
        "#f1(resta, 2 ,3)\n",
        "#f1(sumar, 2 ,3)\n",
        "\n",
        "f(5)"
      ],
      "metadata": {
        "colab": {
          "base_uri": "https://localhost:8080/"
        },
        "id": "0FkL23kCsAO2",
        "outputId": "61ffe460-30a7-47e1-c78e-b9c94acf9931"
      },
      "execution_count": 95,
      "outputs": [
        {
          "output_type": "execute_result",
          "data": {
            "text/plain": [
              "0"
            ]
          },
          "metadata": {},
          "execution_count": 95
        }
      ]
    },
    {
      "cell_type": "code",
      "source": [
        "\"\"\"\n",
        "FUNCION LAMBDA\n",
        "\"\"\"\n",
        "\n",
        "f1(lambda x, y: x ** y, 3, 3)"
      ],
      "metadata": {
        "colab": {
          "base_uri": "https://localhost:8080/"
        },
        "id": "gDk8zhdGuhzq",
        "outputId": "4eb2a706-e643-4946-d54d-2d488e944423"
      },
      "execution_count": 96,
      "outputs": [
        {
          "output_type": "execute_result",
          "data": {
            "text/plain": [
              "27"
            ]
          },
          "metadata": {},
          "execution_count": 96
        }
      ]
    },
    {
      "cell_type": "markdown",
      "source": [
        "##**Taller 1**\n"
      ],
      "metadata": {
        "id": "BeklVGFovheB"
      }
    },
    {
      "cell_type": "markdown",
      "source": [
        "1. Genere una lista con los números del 1 al 20. Apartir de esta lista genere por comprensión:"
      ],
      "metadata": {
        "id": "nCCdaiFMvoK4"
      }
    },
    {
      "cell_type": "code",
      "source": [
        "lista = []\n",
        "for i in range(20):\n",
        "  lista.append(i+1)\n",
        "\n",
        "print(lista)"
      ],
      "metadata": {
        "colab": {
          "base_uri": "https://localhost:8080/"
        },
        "id": "mQIJtRD5vt1v",
        "outputId": "f12498f2-468d-4716-d7b5-4eb16b517c0d"
      },
      "execution_count": 97,
      "outputs": [
        {
          "output_type": "stream",
          "name": "stdout",
          "text": [
            "[1, 2, 3, 4, 5, 6, 7, 8, 9, 10, 11, 12, 13, 14, 15, 16, 17, 18, 19, 20]\n"
          ]
        }
      ]
    },
    {
      "cell_type": "markdown",
      "source": [
        "* Una lista donde se le aplique la siguiente función a cada elemento:\n",
        "\n",
        "$ g(x) = 1/x^2$"
      ],
      "metadata": {
        "id": "OomDJSO1wCBY"
      }
    },
    {
      "cell_type": "code",
      "source": [
        "def g(x):\n",
        "  return 1/x**2\n",
        "\n",
        "lista_f = []\n",
        "for i in lista:\n",
        "  lista_f.append(round(g(i), 3))\n",
        "\n",
        "print(lista_f)\n"
      ],
      "metadata": {
        "colab": {
          "base_uri": "https://localhost:8080/"
        },
        "id": "rWzRaE2HwJdn",
        "outputId": "0d399b63-c923-4caf-9fdb-5b5a336002f1"
      },
      "execution_count": 98,
      "outputs": [
        {
          "output_type": "stream",
          "name": "stdout",
          "text": [
            "[1.0, 0.25, 0.111, 0.062, 0.04, 0.028, 0.02, 0.016, 0.012, 0.01, 0.008, 0.007, 0.006, 0.005, 0.004, 0.004, 0.003, 0.003, 0.003, 0.003]\n"
          ]
        }
      ]
    },
    {
      "cell_type": "markdown",
      "source": [
        "* Una lista solo con los valores impares"
      ],
      "metadata": {
        "id": "PpI5OLz4wqzH"
      }
    },
    {
      "cell_type": "code",
      "source": [
        "lista_impar = [i for i in lista if i % 2 != 0]\n",
        "\n",
        "print(lista_impar)"
      ],
      "metadata": {
        "colab": {
          "base_uri": "https://localhost:8080/"
        },
        "id": "D2qLqEmFwrgG",
        "outputId": "5ae1c5f1-c9b0-49c4-9de9-1f74f99823ac"
      },
      "execution_count": 99,
      "outputs": [
        {
          "output_type": "stream",
          "name": "stdout",
          "text": [
            "[1, 3, 5, 7, 9, 11, 13, 15, 17, 19]\n"
          ]
        }
      ]
    },
    {
      "cell_type": "markdown",
      "source": [
        "* Una lista con los múltiplos de 3"
      ],
      "metadata": {
        "id": "NUo2ShORxLP-"
      }
    },
    {
      "cell_type": "code",
      "source": [
        "lista_multi_3 = [i for i in lista if i % 3 == 0]\n",
        "\n",
        "print(lista_multi_3)"
      ],
      "metadata": {
        "colab": {
          "base_uri": "https://localhost:8080/"
        },
        "id": "LTwtiVUQxMaO",
        "outputId": "f1ba7dc2-93fb-453b-9a78-69039eb3b042"
      },
      "execution_count": 100,
      "outputs": [
        {
          "output_type": "stream",
          "name": "stdout",
          "text": [
            "[3, 6, 9, 12, 15, 18]\n"
          ]
        }
      ]
    },
    {
      "cell_type": "markdown",
      "source": [
        "2. Escribir una función es_primo que devuelva True si un número es primo o False en\n",
        "caso contrario"
      ],
      "metadata": {
        "id": "5dwsPXRNxcjm"
      }
    },
    {
      "cell_type": "code",
      "source": [
        "def es_primo(num):\n",
        "  if num < 1:\n",
        "    return False\n",
        "  elif num == 2:\n",
        "    return True\n",
        "  \n",
        "  for i in range(2, num):\n",
        "    if num % i ==  0:\n",
        "      return False\n",
        "    return True\n",
        "\n",
        "  "
      ],
      "metadata": {
        "id": "AkuILaJzxcJ2"
      },
      "execution_count": 101,
      "outputs": []
    },
    {
      "cell_type": "markdown",
      "source": [
        "3. Escribir una función que devuelva los números primos para un intervalo dado.\n",
        "4. Escribir un generador que devuelva los n primeros números primos"
      ],
      "metadata": {
        "id": "71EQc5u71LAi"
      }
    },
    {
      "cell_type": "code",
      "source": [
        "\"\"\"\n",
        "n -> 1 hasta x+1\n",
        "\n",
        "d -> 1 hasta n+1\n",
        "\n",
        "[1] [2] 3 4 5 6 7 8 9\n",
        "1   1\n",
        "2 1  2\n",
        "3   3\n",
        "4 1  4\n",
        "5   5\n",
        "6 1  6\n",
        "7   7\n",
        "8 1  8\n",
        "9   9\n",
        "10 1 10\n",
        "\"\"\"\n",
        "\n",
        "def es_primo_interval(num1, num2):\n",
        "  cont = 0\n",
        "  for n in range(num1, num2+1):\n",
        "    for d in range(num1, n+1):\n",
        "      if n % d == 0:\n",
        "        cont += 1\n",
        "    if cont == 2:\n",
        "      print(\"{}\".format(n), end=\" \")\n",
        "    cont = 0\n",
        "\n",
        "    \n",
        "es_primo_interval(1,100)"
      ],
      "metadata": {
        "id": "HtHrdrK71N1I",
        "colab": {
          "base_uri": "https://localhost:8080/"
        },
        "outputId": "a697c760-9148-44bd-ecc3-dd043827246b"
      },
      "execution_count": 102,
      "outputs": [
        {
          "output_type": "stream",
          "name": "stdout",
          "text": [
            "2 3 5 7 11 13 17 19 23 29 31 37 41 43 47 53 59 61 67 71 73 79 83 89 97 "
          ]
        }
      ]
    },
    {
      "cell_type": "markdown",
      "source": [
        "5. Escribir una función sumatoria que reciba una función f y un valor límite limit y halle:"
      ],
      "metadata": {
        "id": "1NkAEK9auN2h"
      }
    },
    {
      "cell_type": "code",
      "source": [
        "def f(x):\n",
        "  return x ** 4\n",
        "\n",
        "def sumatoria(limit):\n",
        "  for i in range(limit):\n",
        "    print('{}'.format(f(i)), end= \" \")\n",
        "\n",
        "sumatoria(100)"
      ],
      "metadata": {
        "colab": {
          "base_uri": "https://localhost:8080/"
        },
        "id": "QmLB1OvVuS2Z",
        "outputId": "678f034f-265f-400a-de5a-b729e0fd34f6"
      },
      "execution_count": 103,
      "outputs": [
        {
          "output_type": "stream",
          "name": "stdout",
          "text": [
            "0 1 16 81 256 625 1296 2401 4096 6561 10000 14641 20736 28561 38416 50625 65536 83521 104976 130321 160000 194481 234256 279841 331776 390625 456976 531441 614656 707281 810000 923521 1048576 1185921 1336336 1500625 1679616 1874161 2085136 2313441 2560000 2825761 3111696 3418801 3748096 4100625 4477456 4879681 5308416 5764801 6250000 6765201 7311616 7890481 8503056 9150625 9834496 10556001 11316496 12117361 12960000 13845841 14776336 15752961 16777216 17850625 18974736 20151121 21381376 22667121 24010000 25411681 26873856 28398241 29986576 31640625 33362176 35153041 37015056 38950081 40960000 43046721 45212176 47458321 49787136 52200625 54700816 57289761 59969536 62742241 65610000 68574961 71639296 74805201 78074896 81450625 84934656 88529281 92236816 96059601 "
          ]
        }
      ]
    },
    {
      "cell_type": "markdown",
      "source": [
        "6. Cree la función g que halle el cubo de un número:\n",
        "\n",
        "$g(x)  = x^3$"
      ],
      "metadata": {
        "id": "fV-Gw9PbvdXa"
      }
    },
    {
      "cell_type": "code",
      "source": [
        "def f_3(x):\n",
        "  return x ** 3"
      ],
      "metadata": {
        "id": "o5AtRlwuvka7"
      },
      "execution_count": 104,
      "outputs": []
    },
    {
      "cell_type": "markdown",
      "source": [
        "7. Cree la función h tal que\n",
        "\n",
        "$g(x) = 1/x^2$"
      ],
      "metadata": {
        "id": "19hjMBMfvo-l"
      }
    },
    {
      "cell_type": "code",
      "source": [
        "def h(x):\n",
        "  return 1/x**2"
      ],
      "metadata": {
        "id": "vAFXEqRKvw5k"
      },
      "execution_count": 105,
      "outputs": []
    },
    {
      "cell_type": "markdown",
      "source": [
        "8. Utilice las funciones anteriormente creadas en los puntos 5,6,7 para calcular:"
      ],
      "metadata": {
        "id": "czpagrlCv9tt"
      }
    },
    {
      "cell_type": "code",
      "source": [
        "sum = [ f_3(i) for i in range(1, 5)]\n",
        "print(sum) "
      ],
      "metadata": {
        "colab": {
          "base_uri": "https://localhost:8080/"
        },
        "id": "P0B-gg9swIyL",
        "outputId": "0217e35b-77e5-43fe-bf3b-037f9c1d27a2"
      },
      "execution_count": 106,
      "outputs": [
        {
          "output_type": "stream",
          "name": "stdout",
          "text": [
            "[1, 8, 27, 64]\n"
          ]
        }
      ]
    },
    {
      "cell_type": "code",
      "source": [
        "sum = [ h(i) for i in range(1, 5)]\n",
        "print(sum) "
      ],
      "metadata": {
        "colab": {
          "base_uri": "https://localhost:8080/"
        },
        "id": "e1rVjmyww2fe",
        "outputId": "24935d12-5ca9-4f3b-e59f-5b5d74561dec"
      },
      "execution_count": 107,
      "outputs": [
        {
          "output_type": "stream",
          "name": "stdout",
          "text": [
            "[1.0, 0.25, 0.1111111111111111, 0.0625]\n"
          ]
        }
      ]
    },
    {
      "cell_type": "markdown",
      "source": [
        "Funciones anónimas \n",
        "lambda parámetros : expresión\n",
        "\n",
        "\n",
        "* Son funciones que pueden definir cualquier número de parámetros pero una única expresión. \n",
        "* Esta expresión es evaluada y devuelta.\n",
        "\n",
        "* Se pueden usar en cualquier lugar en el que una función sea requerida.\n",
        "\n",
        "* Estas funciones están restringidas al uso de una sola expresión.\n",
        "\n",
        "* Se suelen usar en combinación con otras funciones, generalmente como argumentos de otra función."
      ],
      "metadata": {
        "id": "3AOd-AOYx_zy"
      }
    },
    {
      "cell_type": "markdown",
      "source": [
        "9. Realice el ejercicio anterior utilizando funciones anónimas."
      ],
      "metadata": {
        "id": "QwnHYgCxyetl"
      }
    },
    {
      "cell_type": "code",
      "source": [
        "#Sumatoria de f(x) = x^3\n",
        "\n",
        "limit = [i for i in range(5) ]\n",
        "\n",
        "for i in limit:\n",
        "  sum1 = lambda f_3: f_3(i)\n",
        "\n",
        "sum1(f_3)\n",
        "\n",
        "\n",
        "#Sumatoria de h(x) = 1/x^2\n",
        "\n",
        "limit = [i for i in range(5) ]\n",
        "\n",
        "for i in limit:\n",
        "  sum2 = lambda h: h(i)\n",
        "\n",
        "sum2(h)"
      ],
      "metadata": {
        "colab": {
          "base_uri": "https://localhost:8080/"
        },
        "id": "9Y5Z1hp1yXjh",
        "outputId": "65289e5e-8dfb-494c-d361-71f5b754e8ba"
      },
      "execution_count": 120,
      "outputs": [
        {
          "output_type": "execute_result",
          "data": {
            "text/plain": [
              "0.0625"
            ]
          },
          "metadata": {},
          "execution_count": 120
        }
      ]
    },
    {
      "cell_type": "markdown",
      "source": [
        "10. Realice lo ejercicios del punto 1 utilizando las funciones map y filter según el caso."
      ],
      "metadata": {
        "id": "Ud5W9ufb1k92"
      }
    },
    {
      "cell_type": "markdown",
      "source": [
        "##MAP\n",
        "\n",
        "La función $map()$ en Python aplica una función a cada uno de los elementos de una lista. \n",
        "\n",
        "$map(unaFuncion, unaLista)$"
      ],
      "metadata": {
        "id": "lmsEhAiZ2HL_"
      }
    },
    {
      "cell_type": "code",
      "source": [
        "def fun(x):\n",
        "  return x ** x\n",
        "\n",
        "lista_map = [ i for i in range(10)]\n",
        "\n",
        "map1 = list(map(lambda i : fun(i), lista_map))\n",
        "\n",
        "print(map1)\n"
      ],
      "metadata": {
        "colab": {
          "base_uri": "https://localhost:8080/"
        },
        "id": "NEi7VlTO1mi7",
        "outputId": "76430862-9eaa-4027-b579-a138ad648820"
      },
      "execution_count": 2,
      "outputs": [
        {
          "output_type": "stream",
          "name": "stdout",
          "text": [
            "[1, 1, 4, 27, 256, 3125, 46656, 823543, 16777216, 387420489]\n"
          ]
        }
      ]
    },
    {
      "cell_type": "markdown",
      "source": [
        "##FILTER\n",
        "\n",
        "La función $filter()$ filtra una lista de elementos para los que una función devuelve True\n",
        "\n",
        "$filter(una_funcion, una_lista)$\n"
      ],
      "metadata": {
        "id": "S0WpWvsk64jU"
      }
    },
    {
      "cell_type": "code",
      "source": [
        "valores = [1, 2, 3, 4, 5, 6, 7, 8, 9]\n",
        "pares = list(filter(lambda x : x % 2 == 0, valores))\n",
        "print(pares)"
      ],
      "metadata": {
        "colab": {
          "base_uri": "https://localhost:8080/"
        },
        "id": "b9EnNZHI7UP4",
        "outputId": "37f6d400-c339-40db-c972-89fe94fdc984"
      },
      "execution_count": 3,
      "outputs": [
        {
          "output_type": "stream",
          "name": "stdout",
          "text": [
            "[2, 4, 6, 8]\n"
          ]
        }
      ]
    },
    {
      "cell_type": "markdown",
      "source": [
        "##REDUCE\n",
        "\n",
        "La última función de esta serie que vamos a ver es la función $reduce()$. Esta función se utiliza principalmente para llevar a cabo un cálculo acumulativo sobre una lista de valores y devolver el resultado.\n",
        "\n",
        "\n",
        "\n",
        "**La función reduce() está incluida en el módulo functools**\n",
        "\n"
      ],
      "metadata": {
        "id": "YyPpyWbh71jG"
      }
    },
    {
      "cell_type": "code",
      "source": [
        "from functools import reduce\n",
        "suma = reduce(lambda x, y: x + y, valores)\n",
        "print(suma)"
      ],
      "metadata": {
        "colab": {
          "base_uri": "https://localhost:8080/"
        },
        "id": "JP5ecfvd8c2U",
        "outputId": "01241421-36c3-4bdc-8461-f2c687bd0a1d"
      },
      "execution_count": 4,
      "outputs": [
        {
          "output_type": "stream",
          "name": "stdout",
          "text": [
            "45\n"
          ]
        }
      ]
    }
  ]
}